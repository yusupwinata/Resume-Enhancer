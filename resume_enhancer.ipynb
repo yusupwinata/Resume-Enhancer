{
 "cells": [
  {
   "cell_type": "markdown",
   "id": "ccf7160b-d2a5-45a7-b09e-13fb85261c2f",
   "metadata": {},
   "source": [
    "# Initial Setup"
   ]
  },
  {
   "cell_type": "code",
   "execution_count": 18,
   "id": "48e26ded-ed86-43f7-a248-f473f6561c02",
   "metadata": {},
   "outputs": [],
   "source": [
    "import os\n",
    "from dotenv import load_dotenv\n",
    "from openai import OpenAI\n",
    "import undetected_chromedriver as uc\n",
    "from selenium.webdriver.common.by import By\n",
    "from selenium.webdriver.support.ui import WebDriverWait\n",
    "from selenium.webdriver.support import expected_conditions as EC\n",
    "from IPython.display import Markdown, display, update_display"
   ]
  },
  {
   "cell_type": "code",
   "execution_count": 12,
   "id": "9eda32bc-4a55-4c10-b9f7-92d6c360cc7f",
   "metadata": {},
   "outputs": [],
   "source": [
    "load_dotenv(override=True)\n",
    "OPENAI_API_KEY = os.getenv(\"OPENAI_API_KEY\")\n",
    "OPENAI_MODEL = \"gpt-4o-mini\"\n",
    "openai = OpenAI()"
   ]
  },
  {
   "cell_type": "markdown",
   "id": "dfff0218-5be8-47d9-b127-4590891a9bd2",
   "metadata": {},
   "source": [
    "# Data Preparation"
   ]
  },
  {
   "cell_type": "code",
   "execution_count": 22,
   "id": "0af51f80-3edf-4b72-9bb2-8a22eaa0d001",
   "metadata": {},
   "outputs": [],
   "source": [
    "class JobSeeker:\n",
    "    def __init__(self, cv_path: str, job_vacancy_url: str):\n",
    "        self.cv = self.extract_cv(cv_path)\n",
    "        self.job_vacancy = self.extract_job_vacancy(job_vacancy_url)\n",
    "\n",
    "    def extract_cv(self, cv_path: str) -> str:\n",
    "        print(\"\\nExtracting CV ...\")\n",
    "        try:\n",
    "            doc = pymupdf.open(cv_path)\n",
    "            byte_text = b\"\"\n",
    "            for page in doc:\n",
    "                byte_text += page.get_text().encode(\"utf-8\")\n",
    "            print(\"CV successfully extracted.\")\n",
    "            return byte_text.decode(\"utf-8\")\n",
    "        except Exception as e:\n",
    "            print(f\"Error reading CV: {e}\")\n",
    "            return \"\"\n",
    "\n",
    "    def extract_job_vacancy(self, job_vacancy_url: str) -> str:\n",
    "        print(\"\\nScraping job vacancy ...\")\n",
    "        chrome_options = uc.ChromeOptions()\n",
    "        chrome_options.add_argument(\"user-agent=Mozilla/5.0 (Windows NT 10.0; Win64; x64) AppleWebKit/537.36 Chrome/123.0.0.0 Safari/537.36\")\n",
    "        chrome_options.headless = True\n",
    "        try:\n",
    "            driver = uc.Chrome(options=chrome_options, version_main=135)\n",
    "            driver.get(job_vacancy_url)\n",
    "            elements = WebDriverWait(driver, 30).until(\n",
    "                EC.presence_of_all_elements_located((By.TAG_NAME, \"p\"))\n",
    "            )\n",
    "            text = \"\".join([el.text for el in elements if el.text!=\"\"])\n",
    "            print(\"Job vacancy successfully scraped.\")\n",
    "            driver.quit()\n",
    "        except Exception as e:\n",
    "            print(f\"Error scraping job vacancy: {e}\")\n",
    "            text = \"\"\n",
    "        finally:\n",
    "            return text"
   ]
  },
  {
   "cell_type": "code",
   "execution_count": 23,
   "id": "ae5f93e3-7e43-40b8-afcf-1fb3296ca141",
   "metadata": {},
   "outputs": [
    {
     "name": "stdout",
     "output_type": "stream",
     "text": [
      "\n",
      "Extracting CV ...\n",
      "CV successfully extracted.\n",
      "\n",
      "Scraping job vacancy ...\n",
      "Job vacancy successfully scraped.\n"
     ]
    }
   ],
   "source": [
    "cv_path = \"yusup_cv.pdf\"\n",
    "job_vacancy_url = \"https://jobs.dell.com/en/job/singapore/machine-learning-engineer/375/75554835840\"\n",
    "\n",
    "yusup = JobSeeker(cv_path, job_vacancy_url)"
   ]
  },
  {
   "cell_type": "code",
   "execution_count": 24,
   "id": "814e3f0a-1b3e-4323-98fd-2e95ee1e9e74",
   "metadata": {},
   "outputs": [
    {
     "data": {
      "text/plain": [
       "\" \\nYUSUP HIDAYAT WINATA \\nML Engineer \\n+6281281118430 | yusuphidayatwinata@gmail.com | Indonesia, Jakarta, 14350 \\nhttps://www.linkedin.com/in/yusup-winata | Portfolio \\n \\nPROFESSIONAL SUMMARY \\nA passionate Machine Learning Engineer with more than 2 years of experience in AI and ML development, \\nmentorship, and program management. Skilled in building and deploying AI models, conducting research, \\nand developing user-friendly applications. Proficient in various ML techniques, including classification, \\nregression, clustering, NLP, and Computer Vision, with a strong foundation in Deep Learning and Python. \\nCommitted to continuous learning and leveraging AI to solve real-world problems. \\n \\nEXPERIENCES \\niOS Developer & ML Engineer Intern, Apple Developer Academy  \\n(Mar 2024 - Dec 2024) \\n●\\u200b Conducted research, including interviews, surveys, and literature reviews, to identify user needs and \\npain points that can be addressed through iOS applications. \\n●\\u200b Designed and evaluate UI/UX by conducting tests, such as A/B testing and User Testing, and \\ndeveloped UI/UX using Xcode, following research insights, design principles, and the MVVM \\narchitecture pattern \\n●\\u200b Built and evaluated Machine Learning models for iOS application, covering data collection, data \\nprocessing, model training, and model evaluation using Python, TensorFlow, Keras, Scikit-Learn, and \\nCreateML, while collaborating with teammates on development, progress reporting, and application \\nenhancement based on user feedback. \\n \\nAcademic Coordinator & AI Mentor, Orbit Future Academy \\n(Jul 2021 - Feb 2024) \\n●\\u200b Led and managed Orbit Artificial Intelligence and Machine Learning training programs at Kampus \\nMerdeka, including Orbit Kampus - AI 4 Jobs and AI 4 Gen-Z Jobseekers. \\n●\\u200b Coordinated with Kampus Merdeka and campus stakeholders, providing regular updates on the status \\nof active programs, and evaluated and improved the quality of AI training programs based on student \\nfeedback and observational results. \\n●\\u200b Developed, evaluated, and updated educational content for AI programs covering Python, data \\nprocessing, Machine Learning, Deep Learning, Data Science, NLP, Computer Vision, and model \\ndeployment using Streamlit and Flask. Delivered AI and ML materials and guided learners through their \\nfinal projects. \\n \\nEDUCATIONS \\nBachelor Degree, Informatics Engineering \\nUniversity of Muhammadiyah Jakarta, GPA 3.86 / 4.00 \\n2020 \\n \\nSKILLS \\nArtificial Intelligence, Machine Learning (classification, regression, clustering), Deep Learning, Data \\nScience, Natural Language Processing (NLP), Computer Vision, Data Processing (cleansing, preparation, \\nand manipulation), Data Visualization, Model Training, Model Evaluation, Model Deployment, Research, \\nTeaching and Mentoring, Educational Content Development, Collaboration. \\n \\nTOOLS \\nPython, Anaconda, Google Colab, Tableau, TensorFlow, Keras, PyTorch, Scikit-Learn, Streamlit, Flask, \\nPythonAnywhere.\\n \\n \\nPROJECTS \\nFIMO Kids [link] \\n2024 \\nDesigned an iPad app using Computer Vision and NLP to develop children's fine motor skills. Responsible \\nfor data collection, processing, model training, and evaluation, achieving high accuracy in task recognition. \\n \\nAI & ML Training Programs \\n2021 - 2024 \\nLed and managed AI/ML training programs for Indonesian students through Orbit Future Academy, focusing \\non industry-relevant skills and real-world applications. These include Orbit Kampus - Artificial Intelligence 4 \\nJobs and AI 4 Gen-Z Jobseekers. \\n \\nStudent Attendance Generator [link] \\n2023 \\nDeveloped a web app using NLP to automate Zoom attendance tracking, significantly reducing the time \\nspent on manual record-keeping. \\n \\nAI & ML Apps for Educational Purposes \\n2022 \\nDeveloped web applications integrating AI, such as the IngfoIn app, including: IngfoIn app, Kampus \\nMerdeka AI Chatbot, and Employee Resignation Prediction App. \\n \\n \\nRECOGNITIONS/AWARDS \\n •  AWS Academy Graduate - AWS Academy Machine Learning Foundations [link]\\u200b\\n\\u200b\\n\\u200b\\n2024 \\n •  AWS Certified Cloud Practitioner [link]\\u200b\\n\\u200b\\n\\u200b\\n\\u200b\\n\\u200b\\n\\u200b\\n\\u200b\\n\\u200b\\n\\u200b\\n2023 \\n •  Employee of the Year - Outstanding Orbitian of The Year [link]\\u200b \\u200b\\n\\u200b\\n\\u200b\\n\\u200b\\n\\u200b\\n2022 \\n •  Test of English as a Foreign Language (TOEFL) [link]\\u200b\\n\\u200b\\n\\u200b\\n\\u200b\\n\\u200b\\n\\u200b\\n\\u200b\\n2022 \\n •  Employee of the Year - Outstanding Orbitian of The Year [link]\\u200b \\u200b\\n\\u200b\\n\\u200b\\n\\u200b\\n\\u200b\\n2021 \\n •  Technology Literacy for Educators - 21st Century Learning Design [link]\\u200b\\n\\u200b\\n\\u200b\\n\\u200b\\n2021 \\n •  Dicoding - Learn Machine Learning Development [link]\\u200b \\u200b\\n\\u200b\\n\\u200b\\n\\u200b\\n\\u200b\\n\\u200b\\n2021 \\n •  Dicoding - Learn Machine Learning for Beginners [link]\\u200b \\u200b\\n\\u200b\\n\\u200b\\n\\u200b\\n\\u200b\\n\\u200b\\n2021 \\n •  Dicoding - Getting Started Programming with Python [link]\\u200b\\n\\u200b\\n\\u200b\\n\\u200b\\n\\u200b\\n\\u200b\\n2021 \\n •  Dicoding - Learn Basic Data Visualization [link]\\u200b \\u200b\\n\\u200b\\n\\u200b\\n\\u200b\\n\\u200b\\n\\u200b\\n\\u200b\\n2021 \\n •  Faculty of Engineering of University of Muhammadiyah Jakarta 3rd Best Graduate [link]\\u200b\\n\\u200b\\n2020 \\n \\n \\n\""
      ]
     },
     "execution_count": 24,
     "metadata": {},
     "output_type": "execute_result"
    }
   ],
   "source": [
    "yusup.cv"
   ]
  },
  {
   "cell_type": "code",
   "execution_count": 25,
   "id": "7622f347-0c94-4792-9b4d-7075a96342f7",
   "metadata": {},
   "outputs": [
    {
     "data": {
      "text/plain": [
       "'Keyword(s)LocationSINGAPORE, SINGAPOREas rated by current and former employeesMachine Learning Engineer\\n\\nIn the rapidly moving Artificial Intelligence era, few spaces are moving faster than the AI-enabled PC.  As a leading provider of world-class technology, this means bringing more intelligence into the PC ecosystem, enabling superior performance, enhanced productivity, and delightful experiences while maintaining privacy and security.  We’re developing innovative approaches to introducing intelligence across our client PC portfolio by leveraging current methodologies, models, and tools to develop a robust end-user ecosystem. What’s more, we are collaborating with leading AI technology companies, academics, industry experts, and skilled engineers to deliver cutting-edge solutions that redefine the user experience.Join us to do the best work of your career and make a profound social impact as a Machine Learning Engineer on our Client Solutions Group (CSG) Chief Technology Officer (CTO) Advanced Architectures Team in the Singapore Design Center..\\nWhat you’ll achieveAs a Machine Learning Engineer on the CSG CTO Advanced Architectures team, you’ll gain applied data science experience, working on a team of data scientists and embedded software engineers on Artificial Intelligence and Machine Learning solutions across the client devices portfolio. In this role, you will be responsible for realizing CTO AI initiatives, implementing algorithms, working with data scientists, data, and embedded SW engineers to rapidly develop, and deploy AI-enabled solutions for millions of end users. You will:Take the first step towards your dream career\\nEvery Dell Technologies team member brings something unique to the table. Here’s what we are looking for with this role:\\n\\nEssential RequirementsDesirable RequirementsWho we areWe believe that each of us has the power to make an impact. That’s why we put our team members at the center of everything we do. If you’re looking for an opportunity to grow your career with some of the best minds and most advanced tech in the industry, we’re looking for you.\\n\\nDell Technologies is a unique family of businesses that helps individuals and organizations transform how they work, live and play. Join us to build a future that works for everyone because Progress Takes All of Us.\\n\\nApplication closing date: 31 July 2025\\n\\nDell Technologies is committed to the principle of equal employment opportunity for all employees and to providing employees with a work environment free of discrimination and harassment. Read the full Equal Employment Opportunity Policy here.Comprehensive Healthcare ProgramsAward Winning Financial Wellness Tools and ResourcesGenerous Leave of Absence for New Parents and CaregiversIndustry Leading Wellness PlatformEmployee Assistance ProgramBE THE FIRST TO SEE NEW OPPORTUNITIESSign up, stay connected and get opportunities that match your skills sent right to your inbox.We use cookies and other tracking technologies to support navigation, to improve our products and services, to support our marketing activities and to provide content from third parties.To manage your preferences, select \"Manage Settings\" or choose \"Accept\" to consent to the use of Cookies.'"
      ]
     },
     "execution_count": 25,
     "metadata": {},
     "output_type": "execute_result"
    }
   ],
   "source": [
    "yusup.job_vacancy"
   ]
  },
  {
   "cell_type": "markdown",
   "id": "560f5956-925e-4f73-8bf5-ba607fa3a7c6",
   "metadata": {},
   "source": [
    "# Prompting"
   ]
  },
  {
   "cell_type": "code",
   "execution_count": 52,
   "id": "f7b339d2-7b36-4bdc-8ac9-06b40c2b41d6",
   "metadata": {},
   "outputs": [],
   "source": [
    "def create_system_prompt() -> str:\n",
    "    return \"\"\"You are an expert resume writer who refines, improves, and writes relevant resume based on curriculum vitae and job opening description. \\\n",
    "You are able to write a relevant resume that contains seven sections, including: Header, Professional Summary, Experience, Education, Skills, Tools, and Certifications/Awards. \\\n",
    "The relevant resume you write should fit on 1 page of A4 paper. Respond in markdown.\"\"\""
   ]
  },
  {
   "cell_type": "code",
   "execution_count": 54,
   "id": "637d21e9-02e7-4bda-a31a-451cbb328e3f",
   "metadata": {},
   "outputs": [],
   "source": [
    "def create_user_prompt(cv: str, job_vacancy: str) -> str:\n",
    "    user_prompt = f\"Here is the resume of one of your clients.\\n\"\n",
    "    user_prompt += f\"{cv}\\n\\n\"\n",
    "    user_prompt += f\"The following is a description of the job opening your client wants to apply for.\\n\"\n",
    "    user_prompt += job_vacancy\n",
    "    return user_prompt"
   ]
  },
  {
   "cell_type": "markdown",
   "id": "83e03900-23e8-4699-860c-5dff65e2b819",
   "metadata": {},
   "source": [
    "# Call OpenAI API"
   ]
  },
  {
   "cell_type": "code",
   "execution_count": 55,
   "id": "352d7f2f-2d18-4ca8-ba8d-62f1627b1bad",
   "metadata": {},
   "outputs": [],
   "source": [
    "def write_cv(client: JobSeeker):\n",
    "    stream = openai.chat.completions.create(\n",
    "        model=OPENAI_MODEL,\n",
    "        messages=[\n",
    "            {\"role\": \"system\", \"content\": create_system_prompt()},\n",
    "            {\"role\": \"user\", \"content\": create_user_prompt(client.cv, client.job_vacancy)}\n",
    "          ],\n",
    "        stream=True\n",
    "    )\n",
    "\n",
    "    response = \"\"\n",
    "    display_handle = display(Markdown(\"\"), display_id=True)\n",
    "    for chunk in stream:\n",
    "        response += chunk.choices[0].delta.content or \"\"\n",
    "        response = response.replace(\"```\",\"\").replace(\"markdown\", \"\")\n",
    "        update_display(Markdown(response), display_id=display_handle.display_id)"
   ]
  },
  {
   "cell_type": "code",
   "execution_count": 56,
   "id": "6da1e528-2d14-42ae-9d1d-bd94cf89ddda",
   "metadata": {},
   "outputs": [
    {
     "data": {
      "text/markdown": [
       "\n",
       "# YUSUP HIDAYAT WINATA\n",
       "**Machine Learning Engineer**  \n",
       "+6281281118430 | yusuphidayatwinata@gmail.com | Jakarta, Indonesia, 14350  \n",
       "[LinkedIn](https://www.linkedin.com/in/yusup-winata) | [Portfolio](#)\n",
       "\n",
       "---\n",
       "\n",
       "## PROFESSIONAL SUMMARY\n",
       "Dedicated Machine Learning Engineer with 3+ years of experience in developing and deploying AI-driven solutions, specializing in collaborative project management and mentorship. Proven ability to leverage advanced ML techniques such as classification, regression, NLP, and Computer Vision to deliver innovative applications. Adept at enhancing user experiences through strong UI/UX design principles and data-driven insights. Passionate about making a societal impact by solving real-world problems through technology.\n",
       "\n",
       "## EXPERIENCE\n",
       "\n",
       "**iOS Developer & ML Engineer Intern**  \n",
       "*Apple Developer Academy*  |  *Mar 2024 - Dec 2024*  \n",
       "- Developed user-friendly iOS applications through deep research into user requirements and pain points.\n",
       "- Designed and tested dynamic UI/UX using Xcode and MVVM architecture, enhancing user engagement.\n",
       "- Built and evaluated advanced ML models with Python, TensorFlow, and Keras, improving application functionality based on real user feedback.\n",
       "\n",
       "**Academic Coordinator & AI Mentor**  \n",
       "*Orbit Future Academy*  |  *Jul 2021 - Feb 2024*  \n",
       "- Spearheaded AI and ML programs, collaborating with educational stakeholders to enhance training curricula and content.\n",
       "- Delivered engaging educational materials in Python, data science, and model deployment, catalyzing learners’ project success.\n",
       "- Guided students through practical applications of AI, promoting hands-on experience in the field.\n",
       "\n",
       "## EDUCATION\n",
       "**Bachelor's Degree in Informatics Engineering**  \n",
       "*University of Muhammadiyah Jakarta* | *GPA: 3.86/4.00* | *2020*\n",
       "\n",
       "## SKILLS\n",
       "- **AI & ML:** Expertise in classification, regression, clustering, NLP, and Computer Vision.  \n",
       "- **Data Science:** Proficient in data processing, visualization, model training, evaluation, and deployment.  \n",
       "- **Project Management:** Experience in mentoring, educational content development, and collaborative teamwork.\n",
       "\n",
       "## TOOLS\n",
       "Python, TensorFlow, Keras, Scikit-Learn, PyTorch, Streamlit, Flask, Google Colab, Anaconda, Tableau.\n",
       "\n",
       "## CERTIFICATIONS/AWARDS\n",
       "- AWS Academy Graduate - AWS Academy Machine Learning Foundations, 2024\n",
       "- AWS Certified Cloud Practitioner, 2023\n",
       "- Outstanding Orbitian of The Year (Employee of the Year), 2022 & 2021\n",
       "- Technology Literacy for Educators - 21st Century Learning Design, 2021\n",
       "\n"
      ],
      "text/plain": [
       "<IPython.core.display.Markdown object>"
      ]
     },
     "metadata": {},
     "output_type": "display_data"
    }
   ],
   "source": [
    "write_cv(client=yusup)"
   ]
  },
  {
   "cell_type": "code",
   "execution_count": null,
   "id": "f5af9366-ea4e-48d0-a615-c78c15bc7d63",
   "metadata": {},
   "outputs": [],
   "source": []
  }
 ],
 "metadata": {
  "kernelspec": {
   "display_name": "llms",
   "language": "python",
   "name": "llms"
  },
  "language_info": {
   "codemirror_mode": {
    "name": "ipython",
    "version": 3
   },
   "file_extension": ".py",
   "mimetype": "text/x-python",
   "name": "python",
   "nbconvert_exporter": "python",
   "pygments_lexer": "ipython3",
   "version": "3.11.12"
  }
 },
 "nbformat": 4,
 "nbformat_minor": 5
}
